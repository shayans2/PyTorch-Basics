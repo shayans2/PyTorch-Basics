{
 "cells": [
  {
   "cell_type": "code",
   "execution_count": 38,
   "metadata": {},
   "outputs": [],
   "source": [
    "import torch\n",
    "import torch.nn as nn\n",
    "import torch.nn.functional as F\n",
    "from torch.optim import SGD\n",
    "\n",
    "import matplotlib as plt\n",
    "import seaborn as sns"
   ]
  },
  {
   "cell_type": "markdown",
   "metadata": {},
   "source": [
    "## Verify everything is fine with pretrained params"
   ]
  },
  {
   "cell_type": "code",
   "execution_count": 39,
   "metadata": {},
   "outputs": [],
   "source": [
    "class BasicNN(nn.Module):\n",
    "    def __init__(self):\n",
    "        super().__init__()\n",
    "        self.w00 = nn.Parameter(torch.tensor(1.7), requires_grad=False)\n",
    "        self.b00 = nn.Parameter(torch.tensor(-0.85), requires_grad=False)\n",
    "        self.w01 = nn.Parameter(torch.tensor(-40.8), requires_grad=False)\n",
    "\n",
    "        self.w10 = nn.Parameter(torch.tensor(12.6), requires_grad=False)\n",
    "        self.b10 = nn.Parameter(torch.tensor(0.0), requires_grad=False)\n",
    "        self.w11 = nn.Parameter(torch.tensor(2.7), requires_grad=False)\n",
    "\n",
    "        self.final_bias = nn.Parameter(torch.tensor(-16.0), requires_grad=False)\n",
    "    \n",
    "    def forward(self, input):\n",
    "        input_to_top_relu = input * self.w00 + self.b00\n",
    "        top_relu_output = F.relu(input_to_top_relu)\n",
    "        scaled_top_relu_output = top_relu_output * self.w01\n",
    "\n",
    "\n",
    "        input_to_bottom_relu = input * self.w10 + self.b10\n",
    "        bottom_relu_output = F.relu(input_to_bottom_relu)\n",
    "        scaled_bottom_relu_output = bottom_relu_output * self.w11\n",
    "\n",
    "        input_to_final_relu = scaled_top_relu_output + scaled_bottom_relu_output + self.final_bias\n",
    "\n",
    "        output = F.relu(input_to_final_relu)\n",
    "\n",
    "        return output\n"
   ]
  },
  {
   "cell_type": "code",
   "execution_count": 40,
   "metadata": {},
   "outputs": [
    {
     "data": {
      "text/plain": [
       "tensor([0.0000, 0.1000, 0.2000, 0.3000, 0.4000, 0.5000, 0.6000, 0.7000, 0.8000,\n",
       "        0.9000, 1.0000])"
      ]
     },
     "execution_count": 40,
     "metadata": {},
     "output_type": "execute_result"
    }
   ],
   "source": [
    "input_doses = torch.linspace(start=0, end=1, steps=11)\n",
    "input_doses"
   ]
  },
  {
   "cell_type": "code",
   "execution_count": 41,
   "metadata": {},
   "outputs": [
    {
     "data": {
      "text/plain": [
       "[Text(0.5, 0, 'Doses'), Text(0, 0.5, 'Effectiveness')]"
      ]
     },
     "execution_count": 41,
     "metadata": {},
     "output_type": "execute_result"
    },
    {
     "data": {
      "image/png": "[encoded data removed]",
      "text/plain": [
       "<Figure size 432x288 with 1 Axes>"
      ]
     },
     "metadata": {
      "needs_background": "light"
     },
     "output_type": "display_data"
    }
   ],
   "source": [
    "model = BasicNN()\n",
    "output_values = model.forward(input_doses)\n",
    "\n",
    "g = sns.lineplot(x=input_doses, y=output_values)\n",
    "g.set(xlabel='Doses', ylabel='Effectiveness')"
   ]
  },
  {
   "cell_type": "markdown",
   "metadata": {},
   "source": [
    "## Time to train the model"
   ]
  },
  {
   "cell_type": "code",
   "execution_count": 42,
   "metadata": {},
   "outputs": [],
   "source": [
    "class BasicNN_train(nn.Module):\n",
    "    def __init__(self):\n",
    "        super().__init__()\n",
    "        self.w00 = nn.Parameter(torch.tensor(1.7), requires_grad=False)\n",
    "        self.b00 = nn.Parameter(torch.tensor(-0.85), requires_grad=False)\n",
    "        self.w01 = nn.Parameter(torch.tensor(-40.8), requires_grad=False)\n",
    "\n",
    "        self.w10 = nn.Parameter(torch.tensor(12.6), requires_grad=False)\n",
    "        self.b10 = nn.Parameter(torch.tensor(0.0), requires_grad=False)\n",
    "        self.w11 = nn.Parameter(torch.tensor(2.7), requires_grad=False)\n",
    "\n",
    "        self.final_bias = nn.Parameter(torch.tensor(0.), requires_grad=True)\n",
    "    \n",
    "    def forward(self, input):\n",
    "        input_to_top_relu = input * self.w00 + self.b00\n",
    "        top_relu_output = F.relu(input_to_top_relu)\n",
    "        scaled_top_relu_output = top_relu_output * self.w01\n",
    "\n",
    "\n",
    "        input_to_bottom_relu = input * self.w10 + self.b10\n",
    "        bottom_relu_output = F.relu(input_to_bottom_relu)\n",
    "        scaled_bottom_relu_output = bottom_relu_output * self.w11\n",
    "\n",
    "        input_to_final_relu = scaled_top_relu_output + scaled_bottom_relu_output + self.final_bias\n",
    "\n",
    "        output = F.relu(input_to_final_relu)\n",
    "\n",
    "        return output\n"
   ]
  },
  {
   "cell_type": "code",
   "execution_count": 43,
   "metadata": {},
   "outputs": [
    {
     "data": {
      "text/plain": [
       "[Text(0.5, 0, 'Doses'), Text(0, 0.5, 'Effectiveness')]"
      ]
     },
     "execution_count": 43,
     "metadata": {},
     "output_type": "execute_result"
    },
    {
     "data": {
      "image/png": "[encoded data removed]",
      "text/plain": [
       "<Figure size 432x288 with 1 Axes>"
      ]
     },
     "metadata": {
      "needs_background": "light"
     },
     "output_type": "display_data"
    }
   ],
   "source": [
    "model = BasicNN_train()\n",
    "output_values = model.forward(input_doses)\n",
    "\n",
    "g = sns.lineplot(x=input_doses, y=output_values.detach())\n",
    "g.set(xlabel='Doses', ylabel='Effectiveness')"
   ]
  },
  {
   "cell_type": "code",
   "execution_count": 44,
   "metadata": {},
   "outputs": [],
   "source": [
    "inputs = torch.tensor([0., 0.5, 1.])\n",
    "labels = torch.tensor([0., 1., 0.])"
   ]
  },
  {
   "cell_type": "code",
   "execution_count": 45,
   "metadata": {},
   "outputs": [
    {
     "name": "stdout",
     "output_type": "stream",
     "text": [
      "Final bias, before optimization: tensor(0.)\n",
      "\n",
      "Steps: 0, Final bias: tensor(-3.2020)\n",
      "\n",
      "Steps: 1, Final bias: tensor(-5.7636)\n",
      "\n",
      "Steps: 2, Final bias: tensor(-7.8129)\n",
      "\n",
      "Steps: 3, Final bias: tensor(-9.4523)\n",
      "\n",
      "Steps: 4, Final bias: tensor(-10.7638)\n",
      "\n",
      "Steps: 5, Final bias: tensor(-11.8131)\n",
      "\n",
      "Steps: 6, Final bias: tensor(-12.6525)\n",
      "\n",
      "Steps: 7, Final bias: tensor(-13.3240)\n",
      "\n",
      "Steps: 8, Final bias: tensor(-13.8612)\n",
      "\n",
      "Steps: 9, Final bias: tensor(-14.2909)\n",
      "\n",
      "Steps: 10, Final bias: tensor(-14.6348)\n",
      "\n",
      "Steps: 11, Final bias: tensor(-14.9098)\n",
      "\n",
      "Steps: 12, Final bias: tensor(-15.1298)\n",
      "\n",
      "Steps: 13, Final bias: tensor(-15.3059)\n",
      "\n",
      "Steps: 14, Final bias: tensor(-15.4467)\n",
      "\n",
      "Steps: 15, Final bias: tensor(-15.5594)\n",
      "\n",
      "Steps: 16, Final bias: tensor(-15.6495)\n",
      "\n",
      "Steps: 17, Final bias: tensor(-15.7216)\n",
      "\n",
      "Steps: 18, Final bias: tensor(-15.7793)\n",
      "\n",
      "Steps: 19, Final bias: tensor(-15.8254)\n",
      "\n",
      "Steps: 20, Final bias: tensor(-15.8623)\n",
      "\n",
      "Steps: 21, Final bias: tensor(-15.8919)\n",
      "\n",
      "Steps: 22, Final bias: tensor(-15.9155)\n",
      "\n",
      "Steps: 23, Final bias: tensor(-15.9344)\n",
      "\n",
      "Steps: 24, Final bias: tensor(-15.9495)\n",
      "\n",
      "Steps: 25, Final bias: tensor(-15.9616)\n",
      "\n",
      "Steps: 26, Final bias: tensor(-15.9713)\n",
      "\n",
      "Steps: 27, Final bias: tensor(-15.9790)\n",
      "\n",
      "Steps: 28, Final bias: tensor(-15.9852)\n",
      "\n",
      "Steps: 29, Final bias: tensor(-15.9902)\n",
      "\n",
      "Steps: 30, Final bias: tensor(-15.9941)\n",
      "\n",
      "Steps: 31, Final bias: tensor(-15.9973)\n",
      "\n",
      "Steps: 32, Final bias: tensor(-15.9999)\n",
      "\n",
      "Steps: 33, Final bias: tensor(-16.0019)\n",
      "\n",
      "Number of steps: 34\n",
      "Final bias, after optimization: tensor(-16.0019)\n"
     ]
    }
   ],
   "source": [
    "optimizer = SGD(model.parameters(), lr=0.1)\n",
    "\n",
    "print('Final bias, before optimization: ' + str(model.final_bias.data) + '\\n')\n",
    "\n",
    "for epoch in range(100):\n",
    "\n",
    "    total_loss = 0\n",
    "\n",
    "    for iteration in range(len(inputs)):\n",
    "        \n",
    "        input_i = inputs[iteration]\n",
    "        label_i = labels[iteration]\n",
    "\n",
    "        output_i = model.forward(input_i)\n",
    "\n",
    "        loss = (output_i - label_i) ** 2\n",
    "\n",
    "        loss.backward()\n",
    "\n",
    "        total_loss += float(loss)\n",
    "\n",
    "    if (total_loss < 0.0001):\n",
    "        print('Number of steps: ' + str(epoch))\n",
    "        break\n",
    "\n",
    "    optimizer.step()\n",
    "    optimizer.zero_grad() # Reset the gradiants previously taken in the iteration for loop\n",
    "\n",
    "    print('Steps: ' + str(epoch) + ', Final bias: ' + str(model.final_bias.data) + '\\n')\n",
    "\n",
    "print('Final bias, after optimization: ' + str(model.final_bias.data))"
   ]
  },
  {
   "cell_type": "code",
   "execution_count": 46,
   "metadata": {},
   "outputs": [
    {
     "data": {
      "text/plain": [
       "[Text(0.5, 0, 'Doses'), Text(0, 0.5, 'Effectiveness')]"
      ]
     },
     "execution_count": 46,
     "metadata": {},
     "output_type": "execute_result"
    },
    {
     "data": {
      "image/png": "[encoded data removed]",
      "text/plain": [
       "<Figure size 432x288 with 1 Axes>"
      ]
     },
     "metadata": {
      "needs_background": "light"
     },
     "output_type": "display_data"
    }
   ],
   "source": [
    "output_values = model.forward(input_doses)\n",
    "\n",
    "g = sns.lineplot(x=input_doses, y=output_values.detach())\n",
    "g.set(xlabel='Doses', ylabel='Effectiveness')"
   ]
  },
  {
   "cell_type": "code",
   "execution_count": null,
   "metadata": {},
   "outputs": [],
   "source": []
  }
 ],
 "metadata": {
  "kernelspec": {
   "display_name": "Python 3.8.8 ('base')",
   "language": "python",
   "name": "python3"
  },
  "language_info": {
   "codemirror_mode": {
    "name": "ipython",
    "version": 3
   },
   "file_extension": ".py",
   "mimetype": "text/x-python",
   "name": "python",
   "nbconvert_exporter": "python",
   "pygments_lexer": "ipython3",
   "version": "3.8.8"
  },
  "orig_nbformat": 4,
  "vscode": {
   "interpreter": {
    "hash": "6a5f179ed6c3bcb2e1f30ce1e53b48f62a17390e904f0d04d8a2e5e25fe30567"
   }
  }
 },
 "nbformat": 4,
 "nbformat_minor": 2
}
